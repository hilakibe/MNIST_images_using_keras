{
 "cells": [
  {
   "cell_type": "code",
   "execution_count": 1,
   "metadata": {},
   "outputs": [],
   "source": [
    "#Date: 11/12/2019\n",
    "#Author: Hillary Kirui\n",
    "#Email: hilakibe20@gmail.com\n",
    "#Phone: +254714202968\n",
    "#Description: using keras for MNIST images classification"
   ]
  },
  {
   "cell_type": "code",
   "execution_count": 46,
   "metadata": {},
   "outputs": [],
   "source": [
    "#importing the necessary libraries\n",
    "import keras\n",
    "import matplotlib.pyplot as plt\n",
    "from keras.datasets import mnist\n",
    "from keras.models import Sequential\n",
    "from keras.layers import Dense,Dropout\n",
    "from keras.optimizers import RMSprop"
   ]
  },
  {
   "cell_type": "code",
   "execution_count": 6,
   "metadata": {},
   "outputs": [],
   "source": [
    "#importing the MNIST dataset 60000 images of training set and 10000 images of testing set\n",
    "(mnist_train_images, mnist_train_labels), (mnist_test_images, mnist_test_labels)=mnist.load_data()"
   ]
  },
  {
   "cell_type": "code",
   "execution_count": 16,
   "metadata": {},
   "outputs": [],
   "source": [
    "#Normalization of my datasets\n",
    "train_images=mnist_train_images.reshape(60000, 784)\n",
    "test_images=mnist_test_images.reshape(10000,784)\n",
    "train_images=train_images.astype(float)\n",
    "test_images=test_images.astype(float)\n",
    "train_images/=255\n",
    "test_images/=255"
   ]
  },
  {
   "cell_type": "code",
   "execution_count": 20,
   "metadata": {},
   "outputs": [],
   "source": [
    "#Encode the labels to one_hot format \n",
    "train_labels=keras.utils.to_categorical(mnist_train_labels, 10)\n",
    "test_labels=keras.utils.to_categorical(mnist_test_labels, 10)"
   ]
  },
  {
   "cell_type": "code",
   "execution_count": 27,
   "metadata": {},
   "outputs": [],
   "source": [
    "#Function to visualize our data\n",
    "def display_image(num):\n",
    "    #print the image one_hot format\n",
    "    print(train_labels[num])\n",
    "    #set the plot title\n",
    "    plt.title(\"Number: %d Label: %d\" % (num, train_labels[num].argmax(axis=0)))\n",
    "    plt.imshow(train_images[num].reshape([28,28]), cmap=plt.get_cmap('gray_r'))\n",
    "    plt.show()"
   ]
  },
  {
   "cell_type": "code",
   "execution_count": 28,
   "metadata": {},
   "outputs": [
    {
     "name": "stdout",
     "output_type": "stream",
     "text": [
      "[0. 0. 0. 1. 0. 0. 0. 0. 0. 0.]\n"
     ]
    },
    {
     "data": {
      "image/png": "[encoded data removed]",
      "text/plain": [
       "<Figure size 432x288 with 1 Axes>"
      ]
     },
     "metadata": {
      "needs_background": "light"
     },
     "output_type": "display_data"
    }
   ],
   "source": [
    "display_image(1234)"
   ]
  },
  {
   "cell_type": "code",
   "execution_count": 36,
   "metadata": {},
   "outputs": [],
   "source": [
    "#creating our model \n",
    "model=Sequential()\n",
    "\n",
    "#adding the desired layers\n",
    "model.add(Dense(512, activation='relu', input_shape=(784, )))\n",
    "model.add(Dense(10, activation='softmax'))"
   ]
  },
  {
   "cell_type": "code",
   "execution_count": 40,
   "metadata": {},
   "outputs": [],
   "source": [
    "#Adding the loss, optimizer and metrics\n",
    "model.compile(loss='categorical_crossentropy',\n",
    "             optimizer='RMSprop',\n",
    "             metrics=['accuracy'])"
   ]
  },
  {
   "cell_type": "code",
   "execution_count": 41,
   "metadata": {},
   "outputs": [
    {
     "name": "stdout",
     "output_type": "stream",
     "text": [
      "WARNING:tensorflow:From C:\\Users\\Kibet\\Anaconda3\\lib\\site-packages\\keras\\backend\\tensorflow_backend.py:422: The name tf.global_variables is deprecated. Please use tf.compat.v1.global_variables instead.\n",
      "\n",
      "Train on 60000 samples, validate on 10000 samples\n",
      "Epoch 1/10\n",
      " - 14s - loss: 0.2423 - accuracy: 0.9293 - val_loss: 0.1119 - val_accuracy: 0.9660\n",
      "Epoch 2/10\n",
      " - 12s - loss: 0.0971 - accuracy: 0.9709 - val_loss: 0.0831 - val_accuracy: 0.9754\n",
      "Epoch 3/10\n",
      " - 12s - loss: 0.0645 - accuracy: 0.9804 - val_loss: 0.0759 - val_accuracy: 0.9783\n",
      "Epoch 4/10\n",
      " - 12s - loss: 0.0475 - accuracy: 0.9855 - val_loss: 0.0682 - val_accuracy: 0.9790\n",
      "Epoch 5/10\n",
      " - 12s - loss: 0.0355 - accuracy: 0.9893 - val_loss: 0.0733 - val_accuracy: 0.9780\n",
      "Epoch 6/10\n",
      " - 12s - loss: 0.0273 - accuracy: 0.9920 - val_loss: 0.0656 - val_accuracy: 0.9814\n",
      "Epoch 7/10\n",
      " - 12s - loss: 0.0213 - accuracy: 0.9939 - val_loss: 0.0744 - val_accuracy: 0.9798\n",
      "Epoch 8/10\n",
      " - 11s - loss: 0.0168 - accuracy: 0.9950 - val_loss: 0.0755 - val_accuracy: 0.9805\n",
      "Epoch 9/10\n",
      " - 12s - loss: 0.0120 - accuracy: 0.9965 - val_loss: 0.0756 - val_accuracy: 0.9812\n",
      "Epoch 10/10\n",
      " - 12s - loss: 0.0095 - accuracy: 0.9971 - val_loss: 0.0840 - val_accuracy: 0.9798\n"
     ]
    },
    {
     "data": {
      "text/plain": [
       "<keras.callbacks.callbacks.History at 0x1e3a2911da0>"
      ]
     },
     "execution_count": 41,
     "metadata": {},
     "output_type": "execute_result"
    }
   ],
   "source": [
    "#Performimg the actual training \n",
    "model.fit(train_images, \n",
    "          train_labels,\n",
    "          batch_size=100,\n",
    "          epochs=10,\n",
    "          verbose=2,\n",
    "          validation_data=(test_images, test_labels)\n",
    "         )"
   ]
  },
  {
   "cell_type": "code",
   "execution_count": 45,
   "metadata": {},
   "outputs": [],
   "source": [
    "#Evaluating our model\n",
    "score=model.evaluate(test_images,\n",
    "                   test_labels,\n",
    "                   verbose=2\n",
    "                   )"
   ]
  },
  {
   "cell_type": "code",
   "execution_count": 48,
   "metadata": {},
   "outputs": [
    {
     "name": "stdout",
     "output_type": "stream",
     "text": [
      "The model loss is: 0.08402138445979981\n",
      "The model Accuracy is: 0.9797999858856201\n"
     ]
    }
   ],
   "source": [
    "print(\"The model loss is:\", score[0])\n",
    "print(\"The model Accuracy is:\", score[1])"
   ]
  },
  {
   "cell_type": "code",
   "execution_count": null,
   "metadata": {},
   "outputs": [],
   "source": []
  }
 ],
 "metadata": {
  "kernelspec": {
   "display_name": "Python 3",
   "language": "python",
   "name": "python3"
  },
  "language_info": {
   "codemirror_mode": {
    "name": "ipython",
    "version": 3
   },
   "file_extension": ".py",
   "mimetype": "text/x-python",
   "name": "python",
   "nbconvert_exporter": "python",
   "pygments_lexer": "ipython3",
   "version": "3.7.3"
  }
 },
 "nbformat": 4,
 "nbformat_minor": 2
}
